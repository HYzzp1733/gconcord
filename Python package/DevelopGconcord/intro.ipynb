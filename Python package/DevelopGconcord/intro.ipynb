{
 "cells": [
  {
   "cell_type": "markdown",
   "metadata": {},
   "source": [
    "# 1. How to build gconcord python package\n",
    "\n",
    "### Step 1: Prepare for the following files:\n",
    "\n",
    " - core.cpp, core.h\n",
    " - wrap.cpp, wrap.h\n",
    " \n",
    "### Step 2: Run the following command in the terminal to generate a shared library."
   ]
  },
  {
   "cell_type": "code",
   "execution_count": null,
   "metadata": {},
   "outputs": [],
   "source": [
    "# g++ -fPIC -I/home/jovyan/Supportpkgs/eigen-3.37/ -O0 -g3 -Wall -c -fmessage-length=0 -MMD -MP -MF\"build/core.d\" -MT\"build/core.o\" -o \"build/core.o\" \"src/core.cpp\"\n",
    "# g++ -fPIC -I/home/jovyan/Supportpkgs/eigen-3.37/ -I/opt/conda/pkgs/python-3.7.3-h5b0a415_0/include/python3.7m/ -O0 -g3 -Wall -c -fmessage-length=0 -MMD -MP -MF\"build/wrap.d\" -MT\"build/wrap.o\" -o \"build/wrap.o\" \"src/wrap.cpp\"\n",
    "# g++ -shared -o \"gconcord/sharedlib.so\"  build/core.o build/wrap.o\n",
    "# python setup.py install\n",
    "# python\n"
   ]
  },
  {
   "cell_type": "markdown",
   "metadata": {},
   "source": [
    "Make sure that the header includes:\n",
    " #include <Eigen/Core>\n",
    " #include <Eigen/Dense>\n",
    " #include <Eigen/Sparse>\n",
    "\n",
    "### Step 3: Write \\_\\_init\\_\\_.py file and gconcord.py file\n",
    "\n",
    "### Step 4: Write setup.py file\n",
    "\n",
    "### Step 5: Run setup.py file to install the package in the shell: python setup.py install.\n",
    "\n",
    "### (Optional) Step 6: Pack the files by *zip -r my_arch.zip my_folder* or *tar -cvzf my_arch.tar.gz my_folder*."
   ]
  },
  {
   "cell_type": "code",
   "execution_count": 19,
   "metadata": {},
   "outputs": [
    {
     "data": {
      "text/plain": [
       "array([[ 0.633,  0.   ,  0.   , -0.045,  0.   ,  0.   ],\n",
       "       [ 0.   ,  0.806,  0.   ,  0.   ,  0.   , -0.032],\n",
       "       [ 0.   ,  0.   ,  0.335,  0.   , -0.039,  0.   ],\n",
       "       [-0.045,  0.   ,  0.   ,  0.532,  0.   ,  0.   ],\n",
       "       [ 0.   ,  0.   , -0.039,  0.   ,  0.524,  0.   ],\n",
       "       [ 0.   , -0.032,  0.   ,  0.   ,  0.   ,  0.576]])"
      ]
     },
     "execution_count": 19,
     "metadata": {},
     "output_type": "execute_result"
    }
   ],
   "source": [
    "import numpy as np\n",
    "import numpy.ctypeslib as npct\n",
    "import site\n",
    "import os.path\n",
    "import sys\n",
    "from ctypes import c_int, c_double\n",
    "\n",
    "lam1 = 0.2\n",
    "lam2 = 0.1\n",
    "p = 6\n",
    "\n",
    "mean = [0 for i in range(p)]\n",
    "cov = np.diag(np.random.uniform(1, 2, p))\n",
    "x = np.random.multivariate_normal(mean, cov, 30)\n",
    "\n",
    "S = np.cov(x, rowvar =  False)\n",
    "\n",
    "from gconcord import gconcord\n",
    "omega = gconcord.gconcord(S, lam1, lam2)\n",
    "omega.round(3)"
   ]
  },
  {
   "cell_type": "code",
   "execution_count": 42,
   "metadata": {},
   "outputs": [
    {
     "data": {
      "text/plain": [
       "array([[ 1.521808, -0.428711,  0.      ,  0.      ,  0.      ,  0.      ],\n",
       "       [-0.428711,  3.076337,  0.      ,  0.283426,  0.      ,  0.      ],\n",
       "       [ 0.      ,  0.      ,  1.774256, -0.670263,  0.      , -0.100538],\n",
       "       [ 0.      ,  0.283426, -0.670263,  0.956788, -0.094547,  0.      ],\n",
       "       [ 0.      ,  0.      ,  0.      , -0.094547,  1.294968, -0.536387],\n",
       "       [ 0.      ,  0.      , -0.100538,  0.      , -0.536387,  1.026582]])"
      ]
     },
     "execution_count": 42,
     "metadata": {},
     "output_type": "execute_result"
    }
   ],
   "source": [
    "import numpy as np\n",
    "from gconcord import gconcord\n",
    "x = np.array([[-0.57299987, -1.22881728,  0.24802264,  0.59779037,  0.65240208, 0.89373708],\n",
    "              [ 0.84087632, -0.3383771 ,  0.0794175 ,  0.12716686, -0.97403288,-0.30804861],\n",
    "              [ 0.13180135, -0.35350249,  0.01601294,  0.30258641,  0.19927309, 0.95847883],\n",
    "              [ 0.44658609,  0.12839939, -2.36179304, -3.2224078 , -0.92297796,-1.55831917],\n",
    "              [-1.00001779, -0.08302829,  0.6814525 ,  0.31812938, -0.50994963,-0.39614266],\n",
    "              [-0.3653738 , -0.20899641,  0.33488842,  0.93276311,  0.18263188,-1.58771894],\n",
    "              [ 0.53065032, -0.61604128, -0.67789621,  0.48183976,  0.20767173, 0.20307444],\n",
    "              [-0.13368724, -0.12181896, -0.52881865, -0.91883273, -0.35672818,-0.09414685],\n",
    "              [-1.23926047, -0.02615426, -1.02995135, -0.99250009, -0.89672846,-0.54350656],\n",
    "              [-0.97725987, -0.95743644, -0.47911092, -0.22157924,  1.8751929 , 1.04114063],\n",
    "              [ 1.4149165 ,  0.93326499, -0.09200369,  0.03342898,  1.71023076, 1.82671778],\n",
    "              [ 0.19710653, -0.94066402, -1.15043928,  0.88932662,  0.3247554 ,-0.87942537]])   \n",
    "S = np.cov(x, rowvar =  False)\n",
    "omega = gconcord.gconcord(S, 0.2, 0.05, method = \"coordinatewise\")\n",
    "omega.round(6)"
   ]
  },
  {
   "cell_type": "code",
   "execution_count": 43,
   "metadata": {},
   "outputs": [
    {
     "data": {
      "text/plain": [
       "0.0"
      ]
     },
     "execution_count": 43,
     "metadata": {},
     "output_type": "execute_result"
    }
   ],
   "source": [
    "import unittest\n",
    "ans = np.array([[ 1.521808, -0.428711,  0.000000,  0.000000,  0.000000,  0.000000],\n",
    "                        [-0.428711,  3.076337,  0.000000,  0.283426,  0.000000,  0.000000],\n",
    "                        [ 0.000000,  0.000000,  1.774256, -0.670263,  0.000000, -0.100538],\n",
    "                        [ 0.000000,  0.283426, -0.670263,  0.956788, -0.094547,  0.000000],\n",
    "                        [ 0.000000,  0.000000,  0.000000, -0.094547,  1.294968, -0.536387],\n",
    "                        [ 0.000000,  0.000000, -0.100538,  0.000000, -0.536387,  1.026582]])\n",
    "np.sum(abs(omega.round(6) - ans))"
   ]
  },
  {
   "cell_type": "markdown",
   "metadata": {},
   "source": [
    "# 2. Cross validation pipeline"
   ]
  },
  {
   "cell_type": "code",
   "execution_count": 21,
   "metadata": {},
   "outputs": [],
   "source": [
    "import numpy as np\n",
    "from gconcord import gconcord\n",
    "p = 10\n",
    "\n",
    "mean = [0 for i in range(p)]\n",
    "cov = 0.5 * np.diag(np.random.uniform(1, 2, p)) + np.ones((p,p)) * 0.5\n",
    "x = np.random.multivariate_normal(mean, cov, 80)"
   ]
  },
  {
   "cell_type": "markdown",
   "metadata": {},
   "source": [
    "## 2.1 K-fold cross-validation"
   ]
  },
  {
   "cell_type": "code",
   "execution_count": 22,
   "metadata": {},
   "outputs": [],
   "source": [
    "## predictive risk\n",
    "def predrisk(X_test, omega):\n",
    "    tmp = np.dot( np.dot(X_test, omega), np.diag(1 / np.diag(omega)) )\n",
    "    return np.linalg.norm(tmp, ord = 'fro') / X_test.shape[0]"
   ]
  },
  {
   "cell_type": "code",
   "execution_count": 23,
   "metadata": {},
   "outputs": [],
   "source": [
    "def logseq(start, end, length, offset = 0.1):\n",
    "    import math\n",
    "    if start != 0:\n",
    "        offset = 0\n",
    "    start = start + offset\n",
    "    end = end + offset\n",
    "    out = [math.exp(i) for i in np.linspace(math.log(start), math.log(end), length)]\n",
    "    out = [i - offset for i in out]\n",
    "    return out"
   ]
  },
  {
   "cell_type": "code",
   "execution_count": 24,
   "metadata": {},
   "outputs": [
    {
     "name": "stdout",
     "output_type": "stream",
     "text": [
      "0\n",
      "1\n",
      "2\n"
     ]
    }
   ],
   "source": [
    "from sklearn.model_selection import KFold\n",
    "nfold = 3\n",
    "kf = KFold(n_splits = nfold)\n",
    "lamset = logseq(0, 1, 10)\n",
    "cvres = np.zeros((len(lamset), nfold))\n",
    "j = 0\n",
    "\n",
    "for train, test in kf.split(x):\n",
    "    print(j)\n",
    "    X_train = x[train]\n",
    "    X_test = x[test]\n",
    "    S = np.cov(X_train, rowvar =  False)\n",
    "    for i in range(len(lamset)):\n",
    "        omega = gconcord.gconcord(S, lamset[i], 0.0, method = \"ista\")\n",
    "        cvres[i][j] = predrisk(X_test, omega)\n",
    "    j = j + 1"
   ]
  },
  {
   "cell_type": "code",
   "execution_count": 25,
   "metadata": {},
   "outputs": [
    {
     "data": {
      "text/plain": [
       "array([0.58450684, 0.56873472, 0.55950712, 0.55459097, 0.55967282,\n",
       "       0.58001498, 0.62036526, 0.67776313, 0.70096304, 0.70096304])"
      ]
     },
     "execution_count": 25,
     "metadata": {},
     "output_type": "execute_result"
    }
   ],
   "source": [
    "cvres.mean(axis = 1)"
   ]
  },
  {
   "cell_type": "code",
   "execution_count": 27,
   "metadata": {},
   "outputs": [
    {
     "data": {
      "image/png": "[encoded data removed]",
      "text/plain": [
       "<Figure size 432x288 with 1 Axes>"
      ]
     },
     "metadata": {
      "needs_background": "light"
     },
     "output_type": "display_data"
    }
   ],
   "source": [
    "import matplotlib.pyplot as plt\n",
    "plt.plot(range(len(lamset)), cvres.mean(axis = 1))\n",
    "plt.xticks(range(len(lamset)), np.round(lamset,2))\n",
    "plt.show()"
   ]
  }
 ],
 "metadata": {
  "kernelspec": {
   "display_name": "Python 3",
   "language": "python",
   "name": "python3"
  },
  "language_info": {
   "codemirror_mode": {
    "name": "ipython",
    "version": 3
   },
   "file_extension": ".py",
   "mimetype": "text/x-python",
   "name": "python",
   "nbconvert_exporter": "python",
   "pygments_lexer": "ipython3",
   "version": "3.6.7"
  }
 },
 "nbformat": 4,
 "nbformat_minor": 2
}
