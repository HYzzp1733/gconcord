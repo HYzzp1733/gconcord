{
 "cells": [
  {
   "cell_type": "markdown",
   "metadata": {},
   "source": [
    "# 1. How to build gconcord python package\n",
    "\n",
    "### Step 1: Prepare for the following files:\n",
    "\n",
    " - core.cpp, core.h\n",
    " - wrap.cpp, wrap.h\n",
    " \n",
    "### Step 2: Run the following command in the terminal to generate a shared library."
   ]
  },
  {
   "cell_type": "code",
   "execution_count": null,
   "metadata": {},
   "outputs": [],
   "source": [
    "# g++ -fPIC -I/home/jovyan/Supportpkgs/eigen-3.37/ -O0 -g3 -Wall -c -fmessage-length=0 -MMD -MP -MF\"build/core.d\" -MT\"build/core.o\" -o \"build/core.o\" \"src/core.cpp\"\n",
    "# g++ -fPIC -I/home/jovyan/Supportpkgs/eigen-3.37/ -I/opt/conda/pkgs/python-3.7.3-h5b0a415_0/include/python3.7m/ -O0 -g3 -Wall -c -fmessage-length=0 -MMD -MP -MF\"build/wrap.d\" -MT\"build/wrap.o\" -o \"build/wrap.o\" \"src/wrap.cpp\"\n",
    "# g++ -shared -o \"gconcord/sharedlib.so\"  build/core.o build/wrap.o\n",
    "# python setup.py install\n",
    "# python\n"
   ]
  },
  {
   "cell_type": "markdown",
   "metadata": {},
   "source": [
    "Make sure that the header includes:\n",
    " #include <Eigen/Core>\n",
    " #include <Eigen/Dense>\n",
    " #include <Eigen/Sparse>\n",
    "\n",
    "### Step 3: Write \\_\\_init\\_\\_.py file and gconcord.py file\n",
    "\n",
    "### Step 4: Write setup.py file\n",
    "\n",
    "### Step 5: Run setup.py file to install the package in the shell: python setup.py install.\n",
    "\n",
    "### (Optional) Step 6: Pack the files by *zip -r my_arch.zip my_folder* or *tar -cvzf my_arch.tar.gz my_folder*."
   ]
  },
  {
   "cell_type": "code",
   "execution_count": 148,
   "metadata": {},
   "outputs": [
    {
     "data": {
      "text/plain": [
       "array([[ 0.661,  0.   ,  0.   ,  0.   , -0.132,  0.   ],\n",
       "       [ 0.   ,  0.827, -0.042,  0.   ,  0.   ,  0.   ],\n",
       "       [ 0.   , -0.042,  0.621,  0.   ,  0.   ,  0.   ],\n",
       "       [ 0.   ,  0.   ,  0.   ,  0.431,  0.   ,  0.   ],\n",
       "       [-0.132,  0.   ,  0.   ,  0.   ,  0.803,  0.   ],\n",
       "       [ 0.   ,  0.   ,  0.   ,  0.   ,  0.   ,  0.344]])"
      ]
     },
     "execution_count": 148,
     "metadata": {},
     "output_type": "execute_result"
    }
   ],
   "source": [
    "import numpy as np\n",
    "import numpy.ctypeslib as npct\n",
    "import site\n",
    "import os.path\n",
    "import sys\n",
    "from ctypes import c_int, c_double\n",
    "\n",
    "lam1 = 0.2\n",
    "lam2 = 0.1\n",
    "p = 6\n",
    "\n",
    "mean = [0 for i in range(p)]\n",
    "cov = np.diag(np.random.uniform(1, 2, p))\n",
    "x = np.random.multivariate_normal(mean, cov, 30)\n",
    "\n",
    "S = np.cov(x, rowvar =  False)\n",
    "\n",
    "from gconcord import gconcord\n",
    "omega = gconcord.gconcord(S, lam1, lam2)\n",
    "omega.round(3)"
   ]
  },
  {
   "cell_type": "code",
   "execution_count": 3,
   "metadata": {},
   "outputs": [
    {
     "data": {
      "text/plain": [
       "array([[ 1.522, -0.429,  0.   ,  0.   ,  0.   ,  0.   ],\n",
       "       [-0.429,  3.076,  0.   ,  0.283,  0.   ,  0.   ],\n",
       "       [ 0.   ,  0.   ,  1.774, -0.67 ,  0.   , -0.101],\n",
       "       [ 0.   ,  0.283, -0.67 ,  0.957, -0.095,  0.   ],\n",
       "       [ 0.   ,  0.   ,  0.   , -0.095,  1.295, -0.536],\n",
       "       [ 0.   ,  0.   , -0.101,  0.   , -0.536,  1.027]])"
      ]
     },
     "execution_count": 3,
     "metadata": {},
     "output_type": "execute_result"
    }
   ],
   "source": [
    "import numpy as np\n",
    "from gconcord import gconcord\n",
    "x = np.array([[-0.57299987, -1.22881728,  0.24802264,  0.59779037,  0.65240208, 0.89373708],\n",
    "              [ 0.84087632, -0.3383771 ,  0.0794175 ,  0.12716686, -0.97403288,-0.30804861],\n",
    "              [ 0.13180135, -0.35350249,  0.01601294,  0.30258641,  0.19927309, 0.95847883],\n",
    "              [ 0.44658609,  0.12839939, -2.36179304, -3.2224078 , -0.92297796,-1.55831917],\n",
    "              [-1.00001779, -0.08302829,  0.6814525 ,  0.31812938, -0.50994963,-0.39614266],\n",
    "              [-0.3653738 , -0.20899641,  0.33488842,  0.93276311,  0.18263188,-1.58771894],\n",
    "              [ 0.53065032, -0.61604128, -0.67789621,  0.48183976,  0.20767173, 0.20307444],\n",
    "              [-0.13368724, -0.12181896, -0.52881865, -0.91883273, -0.35672818,-0.09414685],\n",
    "              [-1.23926047, -0.02615426, -1.02995135, -0.99250009, -0.89672846,-0.54350656],\n",
    "              [-0.97725987, -0.95743644, -0.47911092, -0.22157924,  1.8751929 , 1.04114063],\n",
    "              [ 1.4149165 ,  0.93326499, -0.09200369,  0.03342898,  1.71023076, 1.82671778],\n",
    "              [ 0.19710653, -0.94066402, -1.15043928,  0.88932662,  0.3247554 ,-0.87942537]])   \n",
    "S = np.cov(x, rowvar =  False)\n",
    "omega = gconcord.gconcord(S, 0.2, 0.05, method = \"ista\")\n",
    "omega.round(3)"
   ]
  },
  {
   "cell_type": "markdown",
   "metadata": {},
   "source": [
    "# 2. Cross validation pipeline"
   ]
  },
  {
   "cell_type": "code",
   "execution_count": 78,
   "metadata": {},
   "outputs": [],
   "source": [
    "import numpy as np\n",
    "from gconcord import gconcord\n",
    "p = 10\n",
    "\n",
    "mean = [0 for i in range(p)]\n",
    "cov = 0.5 * np.diag(np.random.uniform(1, 2, p)) + np.ones((p,p)) * 0.5\n",
    "x = np.random.multivariate_normal(mean, cov, 80)"
   ]
  },
  {
   "cell_type": "markdown",
   "metadata": {},
   "source": [
    "## 2.1 K-fold cross-validation"
   ]
  },
  {
   "cell_type": "code",
   "execution_count": 79,
   "metadata": {},
   "outputs": [],
   "source": [
    "## predictive risk\n",
    "def predrisk(X_test, omega):\n",
    "    tmp = np.dot( np.dot(X_test, omega), np.diag(1 / np.diag(omega)) )\n",
    "    return np.linalg.norm(tmp, ord = 'fro') / X_test.shape[0]"
   ]
  },
  {
   "cell_type": "code",
   "execution_count": 80,
   "metadata": {},
   "outputs": [],
   "source": [
    "def logseq(start, end, length, offset = 0.1):\n",
    "    import math\n",
    "    if start != 0:\n",
    "        offset = 0\n",
    "    start = start + offset\n",
    "    end = end + offset\n",
    "    out = [math.exp(i) for i in np.linspace(math.log(start), math.log(end), length)]\n",
    "    out = [i - offset for i in out]\n",
    "    return out"
   ]
  },
  {
   "cell_type": "code",
   "execution_count": 81,
   "metadata": {},
   "outputs": [
    {
     "name": "stdout",
     "output_type": "stream",
     "text": [
      "0\n",
      "1\n",
      "2\n"
     ]
    }
   ],
   "source": [
    "from sklearn.model_selection import KFold\n",
    "nfold = 3\n",
    "kf = KFold(n_splits = nfold)\n",
    "lamset = logseq(0, 1, 10)\n",
    "cvres = np.zeros((len(lamset), nfold))\n",
    "j = 0\n",
    "\n",
    "for train, test in kf.split(x):\n",
    "    print(j)\n",
    "    X_train = x[train]\n",
    "    X_test = x[test]\n",
    "    S = np.cov(X_train, rowvar =  False)\n",
    "    for i in range(len(lamset)):\n",
    "        omega = gconcord.gconcord(S, lamset[i], 0.0, method = \"ista\")\n",
    "        cvres[i][j] = predrisk(X_test, omega)\n",
    "    j = j + 1"
   ]
  },
  {
   "cell_type": "code",
   "execution_count": 82,
   "metadata": {},
   "outputs": [
    {
     "data": {
      "text/plain": [
       "array([0.65297052, 0.6358818 , 0.62284063, 0.62058698, 0.62813837,\n",
       "       0.64612049, 0.67353306, 0.69211517, 0.69351431, 0.69351431])"
      ]
     },
     "execution_count": 82,
     "metadata": {},
     "output_type": "execute_result"
    }
   ],
   "source": [
    "cvres.mean(axis = 1)"
   ]
  },
  {
   "cell_type": "code",
   "execution_count": 90,
   "metadata": {},
   "outputs": [
    {
     "data": {
      "image/png": "[encoded data removed]",
      "text/plain": [
       "<Figure size 432x288 with 1 Axes>"
      ]
     },
     "metadata": {
      "needs_background": "light"
     },
     "output_type": "display_data"
    }
   ],
   "source": [
    "import matplotlib.pyplot as plt\n",
    "plt.plot(range(len(lamset)), cvres.mean(axis = 1))\n",
    "plt.xticks(range(len(lamset)), np.round(lamset,2))\n",
    "plt.show()"
   ]
  },
  {
   "cell_type": "markdown",
   "metadata": {},
   "source": [
    "# 3. Class"
   ]
  },
  {
   "cell_type": "code",
   "execution_count": null,
   "metadata": {},
   "outputs": [],
   "source": [
    "def _objective(mle, precision_, alpha)\n",
    "def _dual_gap(emp-cov, precision_, alpha)\n",
    "def alpha_max(emp_cov)\n",
    "def graphical_lasso(emp_cov, alpha, cov_init = None, mode = 'cd', tol = 1e-4, enet_tol = 1e-4, max_iter = 100, verbose = False, return_costs = False, \n",
    "                    eps = np.finfo(np.float64).eps, return_n_iter = False)\n",
    "\n",
    "# CLASS GraphicalLasso(EmpiricalCovariance)\n",
    "def __init__(self, alpha = 0.01, model = 'cd', tol = 1e-4, enet_tol = 1e-4, max_iter = 100, verbose = False, assume_centered = False)\n",
    "def fit(self, X, y = None)\n",
    "\n",
    "def graphical_lasso_path(X, alphas, cov_init = None, X_test = None, mode = 'cd', tol = 1e-4, enet_tol = 1e-4, max_iter = 100, verbose = False)\n",
    "# CLASS GraphicalLassoCV(GraphicalLasso):\n",
    "def __init__(self, alphas = 4, n_refinements=4, cv='warn', tol=1e-4, enet_tol=1e-4, max_iter=100, mode='cd', n_jobs=None, verbose=False, assume_centered=False)\n",
    "def fit(self, X, y=None)"
   ]
  },
  {
   "cell_type": "markdown",
   "metadata": {},
   "source": [
    "# 4. Example"
   ]
  },
  {
   "cell_type": "code",
   "execution_count": 1,
   "metadata": {},
   "outputs": [],
   "source": [
    "import numpy as np\n",
    "p = 10\n",
    "\n",
    "mean = [0 for i in range(p)]\n",
    "cov = np.diag(np.random.uniform(1, 2, p))\n",
    "X = np.random.multivariate_normal(mean, cov, 50)"
   ]
  },
  {
   "cell_type": "code",
   "execution_count": 2,
   "metadata": {},
   "outputs": [],
   "source": [
    "from gconcord.graphical_concord_ import GraphicalConcord, GraphicalConcordCV\n",
    "\n",
    "ans = GraphicalConcordCV(folds = 3).fit(X)"
   ]
  },
  {
   "cell_type": "code",
   "execution_count": 6,
   "metadata": {},
   "outputs": [
    {
     "data": {
      "text/plain": [
       "array([[ 1.01754346,  0.        ,  0.        ,  0.        , -0.08814825,\n",
       "         0.        ,  0.        ,  0.        , -0.06280313,  0.        ],\n",
       "       [ 0.        ,  0.68104781,  0.        ,  0.        ,  0.        ,\n",
       "         0.        , -0.01051449,  0.0921547 ,  0.        ,  0.        ],\n",
       "       [ 0.        ,  0.        ,  0.74624682,  0.        ,  0.        ,\n",
       "         0.        ,  0.        ,  0.02534147,  0.04692198,  0.        ],\n",
       "       [ 0.        ,  0.        ,  0.        ,  0.4941785 ,  0.        ,\n",
       "         0.        ,  0.        ,  0.        ,  0.        , -0.02833398],\n",
       "       [-0.08814825,  0.        ,  0.        ,  0.        ,  1.03932239,\n",
       "        -0.28085152, -0.01503704,  0.17400383,  0.        , -0.05770017],\n",
       "       [ 0.        ,  0.        ,  0.        ,  0.        , -0.28085152,\n",
       "         1.36501204,  0.        ,  0.        ,  0.        ,  0.        ],\n",
       "       [ 0.        , -0.01051449,  0.        ,  0.        , -0.01503704,\n",
       "         0.        ,  0.83530201,  0.        ,  0.        ,  0.        ],\n",
       "       [ 0.        ,  0.0921547 ,  0.02534147,  0.        ,  0.17400383,\n",
       "         0.        ,  0.        ,  0.94865542, -0.0684998 , -0.02547364],\n",
       "       [-0.06280313,  0.        ,  0.04692198,  0.        ,  0.        ,\n",
       "         0.        ,  0.        , -0.0684998 ,  0.50446568,  0.        ],\n",
       "       [ 0.        ,  0.        ,  0.        , -0.02833398, -0.05770017,\n",
       "         0.        ,  0.        , -0.02547364,  0.        ,  0.76273092]])"
      ]
     },
     "execution_count": 6,
     "metadata": {},
     "output_type": "execute_result"
    }
   ],
   "source": [
    "ans.omega"
   ]
  },
  {
   "cell_type": "code",
   "execution_count": null,
   "metadata": {},
   "outputs": [],
   "source": []
  }
 ],
 "metadata": {
  "kernelspec": {
   "display_name": "Python 3",
   "language": "python",
   "name": "python3"
  },
  "language_info": {
   "codemirror_mode": {
    "name": "ipython",
    "version": 3
   },
   "file_extension": ".py",
   "mimetype": "text/x-python",
   "name": "python",
   "nbconvert_exporter": "python",
   "pygments_lexer": "ipython3",
   "version": "3.6.7"
  }
 },
 "nbformat": 4,
 "nbformat_minor": 2
}
